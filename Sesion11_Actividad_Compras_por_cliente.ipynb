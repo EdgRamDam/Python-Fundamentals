{
  "nbformat": 4,
  "nbformat_minor": 0,
  "metadata": {
    "colab": {
      "provenance": []
    },
    "kernelspec": {
      "name": "python3",
      "display_name": "Python 3"
    },
    "language_info": {
      "name": "python"
    }
  },
  "cells": [
    {
      "cell_type": "code",
      "source": [
        "import math"
      ],
      "metadata": {
        "id": "3VZtGtYeJry1"
      },
      "execution_count": 23,
      "outputs": []
    },
    {
      "cell_type": "code",
      "execution_count": 29,
      "metadata": {
        "colab": {
          "base_uri": "https://localhost:8080/"
        },
        "id": "gZDo_V06DDoK",
        "outputId": "173b653c-fcd1-48a3-aca6-808a93ab1a12"
      },
      "outputs": [
        {
          "output_type": "stream",
          "name": "stdout",
          "text": [
            "Ingresa el tiempo en minutos, 0 para salir: 60\n",
            "Ingresa el tiempo en minutos, 0 para salir: 60\n",
            "Ingresa el tiempo en minutos, 0 para salir: 60\n",
            "Ingresa el tiempo en minutos, 0 para salir: 4\n",
            "Ingresa el tiempo en minutos, 0 para salir: 1\n",
            "Ingresa el tiempo en minutos, 0 para salir: -1\n",
            "Los minutos ingresados deben ser positivos o 0. Intenta de nuevo.\n",
            "Ingresa el tiempo en minutos, 0 para salir: e\n",
            "Los minutos ingresados deben ser positivos o 0. Intenta de nuevo.\n",
            "Ingresa el tiempo en minutos, 0 para salir: 0\n",
            "El total de minutos es: 185\n",
            "El total a pagar es: $70\n"
          ]
        }
      ],
      "source": [
        "tiempo = -1\n",
        "tiempoTotal = 0\n",
        "aPagar = 0\n",
        "while(tiempo != 0):\n",
        "  tiempo = -1\n",
        "  aux = input(\"Ingresa el tiempo en minutos, 0 para salir: \")\n",
        "  if aux.isnumeric():\n",
        "    tiempo = int(aux)\n",
        "  #\n",
        "  if tiempo < 0:\n",
        "    print(\"Los minutos ingresados deben ser positivos o 0. Intenta de nuevo.\")\n",
        "    continue\n",
        "  elif tiempo == 0:\n",
        "    continue\n",
        "  #\n",
        "  tiempoTotal += tiempo\n",
        "#\n",
        "print(\"El total de minutos es: {0}\".format(tiempoTotal))\n",
        "if tiempoTotal > 8 * 60:\n",
        "  aPagar += 200\n",
        "#\n",
        "\n",
        "if tiempoTotal > 0:\n",
        "  aPagar += 25\n",
        "#\n",
        "\n",
        "if tiempoTotal > 60:\n",
        "  aPagar += math.ceil((tiempoTotal-60)/60) * 15\n",
        "#\n",
        "\n",
        "print(\"El total a pagar es: ${0}\".format(aPagar))"
      ]
    }
  ]
}