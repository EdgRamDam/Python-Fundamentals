{
  "nbformat": 4,
  "nbformat_minor": 0,
  "metadata": {
    "colab": {
      "provenance": []
    },
    "kernelspec": {
      "name": "python3",
      "display_name": "Python 3"
    },
    "language_info": {
      "name": "python"
    }
  },
  "cells": [
    {
      "cell_type": "code",
      "source": [
        "import math"
      ],
      "metadata": {
        "id": "3VZtGtYeJry1"
      },
      "execution_count": 23,
      "outputs": []
    },
    {
      "cell_type": "code",
      "execution_count": 26,
      "metadata": {
        "colab": {
          "base_uri": "https://localhost:8080/"
        },
        "id": "gZDo_V06DDoK",
        "outputId": "56847196-360e-41fb-8309-10161d55f561"
      },
      "outputs": [
        {
          "output_type": "stream",
          "name": "stdout",
          "text": [
            "Ingresa el tiempo en minutos, 0 para salir: 60\n",
            "Ingresa el tiempo en minutos, 0 para salir: 60\n",
            "Ingresa el tiempo en minutos, 0 para salir: 1\n",
            "Ingresa el tiempo en minutos, 0 para salir: 0\n",
            "El total de minutos es: 121\n",
            "A pagar: $55\n"
          ]
        }
      ],
      "source": [
        "tiempo = -1\n",
        "tiempoTotal = 0\n",
        "while(tiempo != 0):\n",
        "  tiempo = -1\n",
        "  aux = input(\"Ingresa el tiempo en minutos, 0 para salir: \")\n",
        "  if aux.isnumeric():\n",
        "    tiempo = int(aux)\n",
        "  #\n",
        "  if tiempo < 0:\n",
        "    print(\"Los minutos ingresados deben ser positivos o 0. Intenta de nuevo.\")\n",
        "    pass\n",
        "  elif tiempo == 0:\n",
        "    pass\n",
        "  #\n",
        "  tiempoTotal += tiempo\n",
        "#\n",
        "print(\"El total de minutos es: {0}\".format(tiempoTotal))\n",
        "if tiempoTotal >= 8 * 60:\n",
        "  print(\"A pagar: $200 (Tarifa máxima de 8 horas)\")\n",
        "elif tiempoTotal > 60:\n",
        "  print(\"A pagar: ${0}\".format(25 + math.ceil((tiempoTotal-60)/60)*15))\n",
        "else:\n",
        "  print(\"A pagar: ${0}\".format(25))"
      ]
    }
  ]
}